{
 "cells": [
  {
   "cell_type": "code",
   "execution_count": null,
   "id": "4c90c934",
   "metadata": {},
   "outputs": [],
   "source": [
    "# HIDE CODE CELL WITH TOGGLE BUTTON\n",
    "from IPython.display import HTML\n",
    "HTML('''\n",
    "<script>\n",
    "code_show=true;\n",
    "function code_toggle() {\n",
    " if (code_show){\n",
    "   $('div.input').hide();\n",
    " } else {\n",
    "   $('div.input').show();\n",
    " }\n",
    " code_show = !code_show\n",
    "}\n",
    "$( document ).ready(code_toggle);\n",
    "</script>\n",
    "<form action=\"javascript:code_toggle()\"><input type=\"submit\" value=\"Show/Hide Code\"></form>\n",
    "''')"
   ]
  },
  {
   "cell_type": "markdown",
   "id": "873fb6dd",
   "metadata": {},
   "source": [
    "## 🧪 Student Input Section\n",
    "Please enter your name below:"
   ]
  },
  {
   "cell_type": "code",
   "execution_count": null,
   "id": "14700569",
   "metadata": {},
   "outputs": [],
   "source": [
    "import ipywidgets as widgets\n",
    "from IPython.display import display, clear_output\n",
    "\n",
    "name_input = widgets.Text(\n",
    "    description='Name:',\n",
    "    placeholder='Enter your name'\n",
    ")\n",
    "\n",
    "output = widgets.Output()\n",
    "\n",
    "def on_submit(change):\n",
    "    with output:\n",
    "        clear_output()\n",
    "        print(f\"👋 Hello, {change.new}! Welcome to the Lab!\")\n",
    "\n",
    "name_input.observe(on_submit, names='value')\n",
    "\n",
    "display(name_input, output)"
   ]
  },
  {
   "cell_type": "markdown",
   "id": "e201a57b",
   "metadata": {},
   "source": [
    "---\n",
    "📌 **Instructions for Instructors**:\n",
    "- Push this notebook to GitHub.\n",
    "- Share this link format with students:\n",
    "`https://colab.research.google.com/github/your-username/your-repo/blob/main/filename.ipynb`"
   ]
  }
 ],
 "metadata": {
  "colab": {
   "name": "Hidden_Code_Student_Interface.ipynb"
  },
  "kernelspec": {
   "display_name": "Python 3",
   "language": "python",
   "name": "python3"
  },
  "language_info": {
   "name": "python",
   "version": "3.8"
  }
 },
 "nbformat": 4,
 "nbformat_minor": 5
}
